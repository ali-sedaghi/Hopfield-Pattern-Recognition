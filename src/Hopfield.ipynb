{
 "cells": [
  {
   "cell_type": "markdown",
   "source": [
    "## Imports"
   ],
   "metadata": {
    "collapsed": false,
    "pycharm": {
     "name": "#%% md\n"
    }
   }
  },
  {
   "cell_type": "code",
   "execution_count": 1,
   "metadata": {
    "collapsed": true,
    "pycharm": {
     "name": "#%%\n"
    }
   },
   "outputs": [],
   "source": [
    "import math\n",
    "import numpy as np\n",
    "import matplotlib.pyplot as plt\n",
    "from tqdm.notebook import tqdm\n",
    "from PIL import Image, ImageFont"
   ]
  },
  {
   "cell_type": "markdown",
   "source": [
    "## Hopfield Network\n",
    "Fully vectorized operations\n",
    "Activation can be tanh or sign"
   ],
   "metadata": {
    "collapsed": false,
    "pycharm": {
     "name": "#%% md\n"
    }
   }
  },
  {
   "cell_type": "code",
   "execution_count": 2,
   "outputs": [],
   "source": [
    "class Hopfield:\n",
    "  def __init__(self, N):\n",
    "    self.N = N\n",
    "    self.P = 0\n",
    "    self.W = np.zeros((N, N), dtype=np.int32)\n",
    "\n",
    "  def linear_activation(self, a):\n",
    "    u = np.dot(a, self.W)\n",
    "    return u\n",
    "\n",
    "  @staticmethod\n",
    "  def sign_activation(u):\n",
    "    a = np.sign(u)\n",
    "    return a\n",
    "\n",
    "  @staticmethod\n",
    "  def tanh_activation(u):\n",
    "    a = np.tanh(u)\n",
    "    return a\n",
    "\n",
    "  def activation(self, u, activation):\n",
    "    if activation == 'tanh':\n",
    "      return self.tanh_activation(u)\n",
    "    return self.sign_activation(u)\n",
    "\n",
    "  def compute_weights(self, patterns):\n",
    "    temp = np.dot(patterns.T, patterns)\n",
    "    np.fill_diagonal(temp, 0.0)\n",
    "    self.W = temp\n",
    "\n",
    "  def compute_diff(self, a0, a):\n",
    "    temp = np.equal(a0, a)\n",
    "    true_count = np.count_nonzero(temp)\n",
    "    return self.P - true_count\n",
    "\n",
    "  def compute_accuracy(self, diff_count):\n",
    "    return (self.P - diff_count) / self.P\n",
    "\n",
    "  def compute_energy(self, a):\n",
    "    \"\"\"\n",
    "      Returns a number\n",
    "    \"\"\"\n",
    "    e =  -1 * np.sum(np.multiply(np.outer(a, a), self.W))\n",
    "    return e\n",
    "\n",
    "  @staticmethod\n",
    "  def converged(a, a_before):\n",
    "    \"\"\"\n",
    "    a shape: (N, )\n",
    "    if a and a_before are same return True\n",
    "    \"\"\"\n",
    "    return np.array_equal(a, a_before)\n",
    "\n",
    "  def train(self, X):\n",
    "    \"\"\"\n",
    "    X: patterns vector: numpy array of shape: (K, N)\n",
    "    K: number of patterns\n",
    "    N: number of neurons\n",
    "    \"\"\"\n",
    "    self.compute_weights(X)\n",
    "    self.P = X.shape[1]\n",
    "    return self.W\n",
    "\n",
    "  def predict(self, y, epochs, activation):\n",
    "    \"\"\"\n",
    "    Inputs:\n",
    "      y: test input: an array\n",
    "    Outputs:\n",
    "      yp: The best activation across all epochs  (N,)\n",
    "      acc: Accuracy of returned a Number\n",
    "      e: Energy of returned a Number\n",
    "    \"\"\"\n",
    "    A = []\n",
    "    a = np.array(y)\n",
    "    A.append(a)\n",
    "\n",
    "    # D shape: (epochs+1, )\n",
    "    D = [math.inf]\n",
    "\n",
    "    iterator = tqdm(range(epochs))\n",
    "    for i in iterator:\n",
    "      u = self.linear_activation(a)\n",
    "      a = self.activation(u, activation)\n",
    "      d = self.compute_diff(y, a)\n",
    "\n",
    "      A.append(a)\n",
    "      D.append(d)\n",
    "\n",
    "      # Early stop\n",
    "      if self.converged(A[-1], A[-2]):\n",
    "        iterator.close()\n",
    "        if i == 0:\n",
    "          print(\"Input is already stable.\")\n",
    "        else:\n",
    "          print(\"Consecutive same pattern in iteration:\", i)\n",
    "        break\n",
    "\n",
    "    A = np.array(A)\n",
    "    D = np.array(D)\n",
    "\n",
    "    # Find nearest pattern\n",
    "    index = np.argmin(D)\n",
    "    yp = A[index]\n",
    "    print(\"Nearest pattern found in iteration:\", index)\n",
    "\n",
    "    # Accuracy\n",
    "    acc = self.compute_accuracy(D[index])\n",
    "\n",
    "    # Energy\n",
    "    e = self.compute_energy(yp)\n",
    "\n",
    "    return yp, acc, e"
   ],
   "metadata": {
    "collapsed": false,
    "pycharm": {
     "name": "#%%\n"
    }
   }
  },
  {
   "cell_type": "markdown",
   "source": [
    "## Test on a simple pattern"
   ],
   "metadata": {
    "collapsed": false,
    "pycharm": {
     "name": "#%% md\n"
    }
   }
  },
  {
   "cell_type": "code",
   "execution_count": 3,
   "outputs": [
    {
     "data": {
      "text/plain": "  0%|          | 0/5 [00:00<?, ?it/s]",
      "application/vnd.jupyter.widget-view+json": {
       "version_major": 2,
       "version_minor": 0,
       "model_id": "ba41d987eefd4d78a4ef43d1ca709ccb"
      },
      "application/json": {
       "n": 0,
       "total": 5,
       "elapsed": 0.03702354431152344,
       "ncols": null,
       "nrows": null,
       "prefix": "",
       "ascii": false,
       "unit": "it",
       "unit_scale": false,
       "rate": null,
       "bar_format": null,
       "postfix": null,
       "unit_divisor": 1000,
       "initial": 0,
       "colour": null
      }
     },
     "metadata": {},
     "output_type": "display_data"
    },
    {
     "name": "stdout",
     "output_type": "stream",
     "text": [
      "Nearest pattern found in iteration: 2\n",
      "Weight Matrix: [[0 4 0 0]\n",
      " [4 0 0 0]\n",
      " [0 0 0 4]\n",
      " [0 0 4 0]]\n",
      "Test pattern: [-1, 1, -1, 1]\n",
      "Nearest pattern found: [-1  1 -1  1]\n",
      "Accuracy: 100.0 %\n",
      "Energy: 16\n"
     ]
    }
   ],
   "source": [
    "hopfield = Hopfield(4)\n",
    "\n",
    "X = np.array([\n",
    "  [1, 1, 1, 1],\n",
    "  [-1, -1, -1, -1],\n",
    "  [1, 1, -1, -1],\n",
    "  [-1, -1, 1, 1]\n",
    "])\n",
    "\n",
    "a = [-1, 1, -1, 1]\n",
    "\n",
    "W = hopfield.train(X)\n",
    "yp, acc, e = hopfield.predict(a, epochs=5, activation=\"sign\")\n",
    "\n",
    "print(\"Weight Matrix:\", W)\n",
    "print(\"Test pattern:\", a)\n",
    "print(\"Nearest pattern found:\", yp)\n",
    "print(\"Accuracy:\", acc * 100, \"%\")\n",
    "print(\"Energy:\", e)"
   ],
   "metadata": {
    "collapsed": false,
    "pycharm": {
     "name": "#%%\n"
    }
   }
  },
  {
   "cell_type": "markdown",
   "source": [
    "## Image utility functions"
   ],
   "metadata": {
    "collapsed": false,
    "pycharm": {
     "name": "#%% md\n"
    }
   }
  },
  {
   "cell_type": "code",
   "execution_count": 4,
   "outputs": [],
   "source": [
    "def img_to_sgn(image):\n",
    "  \"\"\"\n",
    "  Input: an image file\n",
    "  Output: 2d array of -1 and +1\n",
    "  \"\"\"\n",
    "  img = image.convert(mode=\"L\")\n",
    "  img_arr = np.asarray(img, dtype=np.uint8)\n",
    "  sgn_arr = np.zeros(img_arr.shape, dtype=np.int8)\n",
    "  sgn_arr[img_arr > (255 / 2)] = 1\n",
    "  sgn_arr[sgn_arr == 0] = -1\n",
    "  return sgn_arr\n",
    "\n",
    "def add_noise(image, percent):\n",
    "  \"\"\"\n",
    "  Input: an image file\n",
    "  Output: an image file with noise added\n",
    "  \"\"\"\n",
    "  img_arr = np.asarray(image, dtype=np.uint8)\n",
    "  mean = np.mean(img_arr)\n",
    "  std = np.std(img_arr)\n",
    "  rand_arr = np.random.normal(mean, std, img_arr.shape)\n",
    "  img_arr = img_arr + rand_arr * percent\n",
    "  img = Image.fromarray(img_arr)\n",
    "  return img"
   ],
   "metadata": {
    "collapsed": false,
    "pycharm": {
     "name": "#%%\n"
    }
   }
  },
  {
   "cell_type": "markdown",
   "source": [
    "## My image"
   ],
   "metadata": {
    "collapsed": false,
    "pycharm": {
     "name": "#%% md\n"
    }
   }
  },
  {
   "cell_type": "markdown",
   "source": [
    "### Loading"
   ],
   "metadata": {
    "collapsed": false,
    "pycharm": {
     "name": "#%% md\n"
    }
   }
  },
  {
   "cell_type": "code",
   "execution_count": 5,
   "outputs": [
    {
     "data": {
      "text/plain": "<matplotlib.image.AxesImage at 0x29df06333d0>"
     },
     "execution_count": 5,
     "metadata": {},
     "output_type": "execute_result"
    },
    {
     "data": {
      "text/plain": "<Figure size 640x480 with 2 Axes>",
      "image/png": "[encoded data removed]"
     },
     "metadata": {},
     "output_type": "display_data"
    }
   ],
   "source": [
    "img_me = Image.open('data/me.jpg')\n",
    "img_noise = Image.open('data/me_noise.jpg')\n",
    "\n",
    "fig, (ax1, ax2) = plt.subplots(1, 2)\n",
    "ax1.title.set_text('Original Image')\n",
    "ax1.imshow(img_me)\n",
    "\n",
    "ax2.title.set_text('Noisy Image')\n",
    "ax2.imshow(img_noise)"
   ],
   "metadata": {
    "collapsed": false,
    "pycharm": {
     "name": "#%%\n"
    }
   }
  },
  {
   "cell_type": "markdown",
   "source": [
    "### Preprocessing"
   ],
   "metadata": {
    "collapsed": false,
    "pycharm": {
     "name": "#%% md\n"
    }
   }
  },
  {
   "cell_type": "code",
   "execution_count": 6,
   "outputs": [],
   "source": [
    "# shape: (50, 50)\n",
    "sgn_me = img_to_sgn(img_me)\n",
    "sgn_noise = img_to_sgn(img_noise)\n",
    "\n",
    "# shape: (1, 2500)\n",
    "X = sgn_me.flatten().reshape(1, -1)\n",
    "\n",
    "# shape: (256,)\n",
    "a = sgn_noise.flatten()"
   ],
   "metadata": {
    "collapsed": false,
    "pycharm": {
     "name": "#%%\n"
    }
   }
  },
  {
   "cell_type": "markdown",
   "source": [
    "### Train"
   ],
   "metadata": {
    "collapsed": false,
    "pycharm": {
     "name": "#%% md\n"
    }
   }
  },
  {
   "cell_type": "code",
   "execution_count": 7,
   "outputs": [
    {
     "data": {
      "text/plain": "  0%|          | 0/5 [00:00<?, ?it/s]",
      "application/vnd.jupyter.widget-view+json": {
       "version_major": 2,
       "version_minor": 0,
       "model_id": "ac8e2d9517174997962aa0afefbae8f6"
      },
      "application/json": {
       "n": 0,
       "total": 5,
       "elapsed": 0.035531044006347656,
       "ncols": null,
       "nrows": null,
       "prefix": "",
       "ascii": false,
       "unit": "it",
       "unit_scale": false,
       "rate": null,
       "bar_format": null,
       "postfix": null,
       "unit_divisor": 1000,
       "initial": 0,
       "colour": null
      }
     },
     "metadata": {},
     "output_type": "display_data"
    },
    {
     "name": "stdout",
     "output_type": "stream",
     "text": [
      "Nearest pattern found in iteration: 1\n",
      "Accuracy: 97.76 %\n",
      "Energy: -6247500\n"
     ]
    }
   ],
   "source": [
    "hopfield = Hopfield(2500)\n",
    "\n",
    "hopfield.train(X)\n",
    "yp, acc, e = hopfield.predict(a, epochs=5, activation=\"sign\")\n",
    "\n",
    "print(\"Accuracy:\", acc * 100, \"%\")\n",
    "print(\"Energy:\", e)"
   ],
   "metadata": {
    "collapsed": false,
    "pycharm": {
     "name": "#%%\n"
    }
   }
  },
  {
   "cell_type": "markdown",
   "source": [
    "### Results"
   ],
   "metadata": {
    "collapsed": false,
    "pycharm": {
     "name": "#%% md\n"
    }
   }
  },
  {
   "cell_type": "code",
   "execution_count": 8,
   "outputs": [
    {
     "data": {
      "text/plain": "<matplotlib.image.AxesImage at 0x29df0891f10>"
     },
     "execution_count": 8,
     "metadata": {},
     "output_type": "execute_result"
    },
    {
     "data": {
      "text/plain": "<Figure size 640x480 with 3 Axes>",
      "image/png": "[encoded data removed]"
     },
     "metadata": {},
     "output_type": "display_data"
    }
   ],
   "source": [
    "_, (ax1, ax2, ax3) = plt.subplots(1, 3)\n",
    "\n",
    "ax1.title.set_text('Learned Pattern')\n",
    "ax1.imshow(X.reshape(50, 50), cmap='gray')\n",
    "\n",
    "ax2.title.set_text('Input with Noise')\n",
    "ax2.imshow(a.reshape(50, 50), cmap='gray')\n",
    "\n",
    "ax3.title.set_text('Removed Noise')\n",
    "ax3.imshow(yp.reshape(50, 50).astype(int), cmap='gray')"
   ],
   "metadata": {
    "collapsed": false,
    "pycharm": {
     "name": "#%%\n"
    }
   }
  },
  {
   "cell_type": "markdown",
   "source": [
    "## English letters dataset"
   ],
   "metadata": {
    "collapsed": false,
    "pycharm": {
     "name": "#%% md\n"
    }
   }
  },
  {
   "cell_type": "markdown",
   "source": [
    "### Dataset Creation"
   ],
   "metadata": {
    "collapsed": false,
    "pycharm": {
     "name": "#%% md\n"
    }
   }
  },
  {
   "cell_type": "code",
   "execution_count": 9,
   "outputs": [],
   "source": [
    "def create_dataset(charset, font_size, size, noise):\n",
    "  font = ImageFont.truetype(\"data/Arial.ttf\", font_size)\n",
    "\n",
    "  X = []\n",
    "  Y = []\n",
    "\n",
    "  for char in charset:\n",
    "    im = Image.Image()._new(font.getmask(char)).resize((size, size))\n",
    "    im_noise = add_noise(im, noise)\n",
    "    sgn_arr = img_to_sgn(im)\n",
    "    sgn_noise_arr = img_to_sgn(im_noise)\n",
    "    X.append(sgn_arr.flatten())\n",
    "    Y.append(sgn_noise_arr.flatten())\n",
    "\n",
    "  X = np.array(X)\n",
    "  Y = np.array(Y)\n",
    "\n",
    "  return X, Y\n",
    "\n",
    "def plot_result(X, Y, Yp):\n",
    "  n = X.shape[0]\n",
    "  size = int(math.sqrt(X.shape[1]))\n",
    "\n",
    "  fig, axs = plt.subplots(10, 3)\n",
    "\n",
    "  for i in range(n):\n",
    "    axs[i, 0].imshow(X[i].reshape(size, size), cmap='gray')\n",
    "    axs[i, 1].imshow(Y[i].reshape(size, size), cmap='gray')\n",
    "    axs[i, 2].imshow(Yp[i].reshape(size, size).astype(int), cmap='gray')"
   ],
   "metadata": {
    "collapsed": false,
    "pycharm": {
     "name": "#%%\n"
    }
   }
  },
  {
   "cell_type": "markdown",
   "source": [
    "### Train and Results"
   ],
   "metadata": {
    "collapsed": false,
    "pycharm": {
     "name": "#%% md\n"
    }
   }
  },
  {
   "cell_type": "code",
   "execution_count": 10,
   "outputs": [],
   "source": [
    "def do_the_job(font_size, noise):\n",
    "  size = int(font_size * .75)\n",
    "  X, Y = create_dataset(\"ABCDEFGHIJ\", font_size, size, noise)\n",
    "\n",
    "  hopfield = Hopfield(size**2)\n",
    "  hopfield.train(X)\n",
    "\n",
    "  Yp = []\n",
    "  accuracies = []\n",
    "  acc = None\n",
    "  e = None\n",
    "  for a in Y:\n",
    "    yp, acc, e = hopfield.predict(a, epochs=5000, activation=\"sign\")\n",
    "    Yp.append(yp)\n",
    "    accuracies.append(acc)\n",
    "\n",
    "  print(\"Accuracy:\", acc * 100, \"%\")\n",
    "  print(\"Energy:\", e)\n",
    "  print()\n",
    "\n",
    "  Yp = np.array(Yp)\n",
    "  accuracies = np.array(accuracies)\n",
    "\n",
    "  print()\n",
    "  print(\"======= Final Result =======\")\n",
    "  print(\"Font size:\", font_size)\n",
    "  print(\"Noise:\", noise * 100, \"%\")\n",
    "  print(\"Average accuracy:\", np.average(accuracies) * 100, \"%\")\n",
    "  plot_result(X, Y, Yp)"
   ],
   "metadata": {
    "collapsed": false,
    "pycharm": {
     "name": "#%%\n"
    }
   }
  },
  {
   "cell_type": "code",
   "execution_count": 11,
   "outputs": [
    {
     "data": {
      "text/plain": "  0%|          | 0/5000 [00:00<?, ?it/s]",
      "application/vnd.jupyter.widget-view+json": {
       "version_major": 2,
       "version_minor": 0,
       "model_id": "8d107b5675184594865b81bf0b5e458e"
      },
      "application/json": {
       "n": 0,
       "total": 5000,
       "elapsed": 0.0339970588684082,
       "ncols": null,
       "nrows": null,
       "prefix": "",
       "ascii": false,
       "unit": "it",
       "unit_scale": false,
       "rate": null,
       "bar_format": null,
       "postfix": null,
       "unit_divisor": 1000,
       "initial": 0,
       "colour": null
      }
     },
     "metadata": {},
     "output_type": "display_data"
    },
    {
     "name": "stdout",
     "output_type": "stream",
     "text": [
      "Nearest pattern found in iteration: 128\n"
     ]
    },
    {
     "data": {
      "text/plain": "  0%|          | 0/5000 [00:00<?, ?it/s]",
      "application/vnd.jupyter.widget-view+json": {
       "version_major": 2,
       "version_minor": 0,
       "model_id": "bc67c638a15d4c04b44f78e16cae5787"
      },
      "application/json": {
       "n": 0,
       "total": 5000,
       "elapsed": 0.025994539260864258,
       "ncols": null,
       "nrows": null,
       "prefix": "",
       "ascii": false,
       "unit": "it",
       "unit_scale": false,
       "rate": null,
       "bar_format": null,
       "postfix": null,
       "unit_divisor": 1000,
       "initial": 0,
       "colour": null
      }
     },
     "metadata": {},
     "output_type": "display_data"
    },
    {
     "name": "stdout",
     "output_type": "stream",
     "text": [
      "Nearest pattern found in iteration: 1006\n"
     ]
    },
    {
     "data": {
      "text/plain": "  0%|          | 0/5000 [00:00<?, ?it/s]",
      "application/vnd.jupyter.widget-view+json": {
       "version_major": 2,
       "version_minor": 0,
       "model_id": "c9a2fa1fde8b4aff9d8a02ff85463662"
      },
      "application/json": {
       "n": 0,
       "total": 5000,
       "elapsed": 0.026504039764404297,
       "ncols": null,
       "nrows": null,
       "prefix": "",
       "ascii": false,
       "unit": "it",
       "unit_scale": false,
       "rate": null,
       "bar_format": null,
       "postfix": null,
       "unit_divisor": 1000,
       "initial": 0,
       "colour": null
      }
     },
     "metadata": {},
     "output_type": "display_data"
    },
    {
     "name": "stdout",
     "output_type": "stream",
     "text": [
      "Nearest pattern found in iteration: 30\n"
     ]
    },
    {
     "data": {
      "text/plain": "  0%|          | 0/5000 [00:00<?, ?it/s]",
      "application/vnd.jupyter.widget-view+json": {
       "version_major": 2,
       "version_minor": 0,
       "model_id": "a40a14908a854f9ab0b51e3b5d913494"
      },
      "application/json": {
       "n": 0,
       "total": 5000,
       "elapsed": 0.026997804641723633,
       "ncols": null,
       "nrows": null,
       "prefix": "",
       "ascii": false,
       "unit": "it",
       "unit_scale": false,
       "rate": null,
       "bar_format": null,
       "postfix": null,
       "unit_divisor": 1000,
       "initial": 0,
       "colour": null
      }
     },
     "metadata": {},
     "output_type": "display_data"
    },
    {
     "name": "stdout",
     "output_type": "stream",
     "text": [
      "Nearest pattern found in iteration: 886\n"
     ]
    },
    {
     "data": {
      "text/plain": "  0%|          | 0/5000 [00:00<?, ?it/s]",
      "application/vnd.jupyter.widget-view+json": {
       "version_major": 2,
       "version_minor": 0,
       "model_id": "ebfdfea2d8ae437cb470a7906ec5c2c7"
      },
      "application/json": {
       "n": 0,
       "total": 5000,
       "elapsed": 0.029000043869018555,
       "ncols": null,
       "nrows": null,
       "prefix": "",
       "ascii": false,
       "unit": "it",
       "unit_scale": false,
       "rate": null,
       "bar_format": null,
       "postfix": null,
       "unit_divisor": 1000,
       "initial": 0,
       "colour": null
      }
     },
     "metadata": {},
     "output_type": "display_data"
    },
    {
     "name": "stdout",
     "output_type": "stream",
     "text": [
      "Nearest pattern found in iteration: 277\n"
     ]
    },
    {
     "data": {
      "text/plain": "  0%|          | 0/5000 [00:00<?, ?it/s]",
      "application/vnd.jupyter.widget-view+json": {
       "version_major": 2,
       "version_minor": 0,
       "model_id": "27fe02393413492e9a61bb33b0d8106b"
      },
      "application/json": {
       "n": 0,
       "total": 5000,
       "elapsed": 0.023998022079467773,
       "ncols": null,
       "nrows": null,
       "prefix": "",
       "ascii": false,
       "unit": "it",
       "unit_scale": false,
       "rate": null,
       "bar_format": null,
       "postfix": null,
       "unit_divisor": 1000,
       "initial": 0,
       "colour": null
      }
     },
     "metadata": {},
     "output_type": "display_data"
    },
    {
     "name": "stdout",
     "output_type": "stream",
     "text": [
      "Nearest pattern found in iteration: 175\n"
     ]
    },
    {
     "data": {
      "text/plain": "  0%|          | 0/5000 [00:00<?, ?it/s]",
      "application/vnd.jupyter.widget-view+json": {
       "version_major": 2,
       "version_minor": 0,
       "model_id": "57d4b5a621f7458180e98141a71bab0e"
      },
      "application/json": {
       "n": 0,
       "total": 5000,
       "elapsed": 0.03000617027282715,
       "ncols": null,
       "nrows": null,
       "prefix": "",
       "ascii": false,
       "unit": "it",
       "unit_scale": false,
       "rate": null,
       "bar_format": null,
       "postfix": null,
       "unit_divisor": 1000,
       "initial": 0,
       "colour": null
      }
     },
     "metadata": {},
     "output_type": "display_data"
    },
    {
     "name": "stdout",
     "output_type": "stream",
     "text": [
      "Nearest pattern found in iteration: 51\n"
     ]
    },
    {
     "data": {
      "text/plain": "  0%|          | 0/5000 [00:00<?, ?it/s]",
      "application/vnd.jupyter.widget-view+json": {
       "version_major": 2,
       "version_minor": 0,
       "model_id": "061bf3f4f132470ba6b5f244314f2270"
      },
      "application/json": {
       "n": 0,
       "total": 5000,
       "elapsed": 0.021000385284423828,
       "ncols": null,
       "nrows": null,
       "prefix": "",
       "ascii": false,
       "unit": "it",
       "unit_scale": false,
       "rate": null,
       "bar_format": null,
       "postfix": null,
       "unit_divisor": 1000,
       "initial": 0,
       "colour": null
      }
     },
     "metadata": {},
     "output_type": "display_data"
    },
    {
     "name": "stdout",
     "output_type": "stream",
     "text": [
      "Nearest pattern found in iteration: 132\n"
     ]
    },
    {
     "data": {
      "text/plain": "  0%|          | 0/5000 [00:00<?, ?it/s]",
      "application/vnd.jupyter.widget-view+json": {
       "version_major": 2,
       "version_minor": 0,
       "model_id": "ff7e9b8045f94ed1b12fb22a62a3ea0b"
      },
      "application/json": {
       "n": 0,
       "total": 5000,
       "elapsed": 0.032004594802856445,
       "ncols": null,
       "nrows": null,
       "prefix": "",
       "ascii": false,
       "unit": "it",
       "unit_scale": false,
       "rate": null,
       "bar_format": null,
       "postfix": null,
       "unit_divisor": 1000,
       "initial": 0,
       "colour": null
      }
     },
     "metadata": {},
     "output_type": "display_data"
    },
    {
     "name": "stdout",
     "output_type": "stream",
     "text": [
      "Nearest pattern found in iteration: 291\n"
     ]
    },
    {
     "data": {
      "text/plain": "  0%|          | 0/5000 [00:00<?, ?it/s]",
      "application/vnd.jupyter.widget-view+json": {
       "version_major": 2,
       "version_minor": 0,
       "model_id": "3ada56a5eccd44bf9b1b47c56c0ed711"
      },
      "application/json": {
       "n": 0,
       "total": 5000,
       "elapsed": 0.028484821319580078,
       "ncols": null,
       "nrows": null,
       "prefix": "",
       "ascii": false,
       "unit": "it",
       "unit_scale": false,
       "rate": null,
       "bar_format": null,
       "postfix": null,
       "unit_divisor": 1000,
       "initial": 0,
       "colour": null
      }
     },
     "metadata": {},
     "output_type": "display_data"
    },
    {
     "name": "stdout",
     "output_type": "stream",
     "text": [
      "Nearest pattern found in iteration: 180\n",
      "Accuracy: 86.80555555555556 %\n",
      "Energy: -38880\n",
      "\n",
      "\n",
      "======= Final Result =======\n",
      "Font size: 16\n",
      "Noise: 10.0 %\n",
      "Average accuracy: 89.30555555555554 %\n"
     ]
    },
    {
     "data": {
      "text/plain": "<Figure size 640x480 with 30 Axes>",
      "image/png": "[encoded data removed]"
     },
     "metadata": {},
     "output_type": "display_data"
    }
   ],
   "source": [
    "font_size = 16\n",
    "noise = 0.1\n",
    "do_the_job(font_size, noise)"
   ],
   "metadata": {
    "collapsed": false,
    "pycharm": {
     "name": "#%%\n"
    }
   }
  },
  {
   "cell_type": "code",
   "execution_count": 11,
   "outputs": [],
   "source": [],
   "metadata": {
    "collapsed": false,
    "pycharm": {
     "name": "#%%\n"
    }
   }
  }
 ],
 "metadata": {
  "kernelspec": {
   "display_name": "Python 3",
   "language": "python",
   "name": "python3"
  },
  "language_info": {
   "codemirror_mode": {
    "name": "ipython",
    "version": 2
   },
   "file_extension": ".py",
   "mimetype": "text/x-python",
   "name": "python",
   "nbconvert_exporter": "python",
   "pygments_lexer": "ipython2",
   "version": "2.7.6"
  }
 },
 "nbformat": 4,
 "nbformat_minor": 0
}